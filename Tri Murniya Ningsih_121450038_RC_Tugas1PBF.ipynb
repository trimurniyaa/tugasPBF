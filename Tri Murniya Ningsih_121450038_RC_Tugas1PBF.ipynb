{
 "cells": [
  {
   "cell_type": "markdown",
   "id": "ae5394b1",
   "metadata": {},
   "source": [
    "### Nama : Tri Murniya Ningsih \n",
    "### NIM : 121450038\n",
    "### Program Studi : Sains Data\n",
    "### Kelas : RC\n",
    "### Tugas 1 Pemrograman Berbasis Fungsi "
   ]
  },
  {
   "cell_type": "markdown",
   "id": "e5a81f36",
   "metadata": {},
   "source": [
    "## 1. Jelaskan menggunakan tabel mengenai kelebihan dan kekurangan paradigma Procedural dibandingkan dengan Object Oriented (minimal 3) !\n",
    "Kelebihan Procedural dibandingkan Object Oriented \n",
    "\n",
    "<table>\n",
    "    <tr>\n",
    "        <th>Procedural</th>\n",
    "        <th>Object Oriented</th>\n",
    "     <tr>\n",
    "     <tr>\n",
    "         <td>Penulisan program yang sederhana dan terstruktur cocok untuk program yang sederhana</td>\n",
    "         <td>Kurang cocok untuk program sederhana</td>\n",
    "    </tr>\n",
    "    <tr>\n",
    "         <td>Penggunaan memory lebih sedikit dibandingkan Object Oriented</td>\n",
    "         <td>Penggunaan memory lebih besar dibandingkan Procedural</td>\n",
    "    </tr>\n",
    "    <tr>\n",
    "         <td>Mudah dipahami oleh pemula</td>\n",
    "         <td>Lebih sulit dipahami oleh pemula</td>\n",
    "    </tr>\n",
    "</table>\n",
    "\n",
    "Kekurangan Procedural dibandingkan Object Oriented\n",
    "\n",
    "<table>\n",
    "    <tr>\n",
    "        <th>Procedural</th>\n",
    "        <th>Object Oriented</th>\n",
    "     <tr>\n",
    "     <tr>\n",
    "         <td>Prosedural tidak memiliki access modifiers seperti pada Object Oriented</td>\n",
    "         <td>Object Oriented memiliki access modifiers seperti public, protected, dan private</td>\n",
    "    </tr>\n",
    "    <tr>\n",
    "         <td>Prosedural kurang aman dibandingkan dengan Object Oriented</td>\n",
    "         <td>Object Oriented dapat melakukan abstraction dalam penyembunyian data maka Object Oriented lebih aman daripada Prosedural</td>\n",
    "    </tr>\n",
    "    <tr>\n",
    "         <td>Sulit dimodifikasi</td>\n",
    "         <td>Mudah dimodifikasi</td>\n",
    "    </tr>\n",
    "</table>"
   ]
  },
  {
   "cell_type": "markdown",
   "id": "779ad886",
   "metadata": {},
   "source": [
    "## 2. Jelaskan menggunakan tabel mengenai kelebihan dan kekurangan paradigma Object Oriented dibandingkan dengan Functional (minimal 3) !\n",
    "\n",
    "Kelebihan Object Oriented dibandingkan Functional\n",
    "\n",
    "<table>\n",
    "    <tr>\n",
    "        <th>Object Oriented</th>\n",
    "        <th>Functional</th>\n",
    "     <tr>\n",
    "     <tr>\n",
    "         <td>Tipe variabel dapat diubah</td>\n",
    "         <td>Tipe variabel tidak dapat diubah</td>\n",
    "    </tr>\n",
    "    <tr>\n",
    "         <td>Algoritma lebih jelas</td>\n",
    "         <td>Algoritma kurang jelas</td>\n",
    "    </tr>\n",
    "    <tr>\n",
    "         <td>Lebih mudah dipahami dibandingkan Functional</td>\n",
    "         <td>Lebih sulit dipahami dibandingkan Object Oriented</td>\n",
    "    </tr>\n",
    "</table>\n",
    "\n",
    "Kekurangan Object Oriented dibandingkan Functional\n",
    "\n",
    "<table>\n",
    "    <tr>\n",
    "        <th>Object Oriented</th>\n",
    "        <th>Functional</th>\n",
    "     <tr>\n",
    "     <tr>\n",
    "         <td>Membutuhkan memory lebih besar dibandingkan Functional</td>\n",
    "         <td>Membutuhkan sedikit memory dibandingkan Object Oriented</td>\n",
    "    </tr>\n",
    "    <tr>\n",
    "         <td>Kode lebih banyak dibandingkan Functional</td>\n",
    "         <td>Kode lebih sedikit dibandingkan Object Oriented</td>\n",
    "    </tr>\n",
    "    <tr>\n",
    "         <td>pernyataan harus dijalankan dalam urutan tertentu</td>\n",
    "         <td>Pernyataan dapat dieksekusi dalam urutan apapun</td>\n",
    "    </tr>\n",
    "</table>"
   ]
  },
  {
   "cell_type": "markdown",
   "id": "e12b2686",
   "metadata": {},
   "source": [
    "## 3. Jelaskan menggunakan tabel mengenai kelebihan dan kekurangan paradigma Procedural dibandingkan dengan Functional (minimal 3) !\n",
    "\n",
    "Kelebihan Procedural dibandingkan Functional\n",
    "\n",
    "<table>\n",
    "    <tr>\n",
    "        <th>Procedural</th>\n",
    "        <th>Functional</th>\n",
    "     <tr>\n",
    "     <tr>\n",
    "         <td>Variabel dapat dimodifikasi atau diperbarui</td>\n",
    "         <td>Tidak bisa memodifikasi atau memperbarui variabel</td>\n",
    "    </tr>\n",
    "    <tr>\n",
    "         <td>Mendukung iterasi seperti pernyataan kondisional dan loop</td>\n",
    "         <td>Tidak mendukung iterasi seperti pernyataan kondisional dan loop</td>\n",
    "    </tr>\n",
    "    <tr>\n",
    "        <td>Kode lebih mudah dipahami</td>\n",
    "        <td>Kode sulit untuk dipahami</td>\n",
    "    </tr>\n",
    "</table>\n",
    "\n",
    "Kekurangan Procedural dibandingkan Functional\n",
    "\n",
    "<table>\n",
    "    <tr>\n",
    "        <th>Procedural</th>\n",
    "        <th>Functional</th>\n",
    "     <tr>\n",
    "     <tr>\n",
    "         <td>Debugging lebih sulit</td>\n",
    "         <td>Debugging lebih mudah</td>\n",
    "    </tr>\n",
    "    <tr>\n",
    "         <td>Prosesnya lebih memakan waktu</td>\n",
    "         <td>Prosesnya lebih hemat waktu</td>\n",
    "    </tr>\n",
    "    <tr>\n",
    "         <td>Jarang menggunakan fungsi sehingga kode lebih banyak</td>\n",
    "         <td>Sering menggunakan fungsi sehingga kode lebih sedikit</td>\n",
    "    </tr>\n",
    "</table>"
   ]
  },
  {
   "cell_type": "markdown",
   "id": "44e0087e",
   "metadata": {},
   "source": [
    "## 4. Apa yang dimaksud dengan pure functional programming language? \n",
    "Pure Functional Programming Language adalah fungsi yang menerima parameter inputan dan mengembalikan nilai tanpa merubah nilai dari variabel manapun"
   ]
  },
  {
   "cell_type": "markdown",
   "id": "d8f14b0f",
   "metadata": {},
   "source": [
    "## 5. Dari bahasa pemrograman FP di slide sebelumnya ( slide 14 ), manakah yang termasuk pure functional programming language?\n",
    "Dari slide 14, bahasa yang termasuk pure functional programming adalah Lisp, Haskell, dan Standard ML"
   ]
  },
  {
   "cell_type": "markdown",
   "id": "653e13c9",
   "metadata": {},
   "source": [
    "## 6. Membuat program Simple Password encryption, dengan ketentuan\n",
    "1. Input password bertipe string dengan batasan panjang password 100 karakter\n",
    "2. Setiap karakter dari string tersebut diubah menjadi ASCII value\n",
    "3. Kemudian setiap ASCII value tersebut dikembangkan menjadi 3 value dengan dilakukan operasi berikut:\n",
    "    1. Value pertama dibagi dengan integer 26 kemudian dibulatkan dan dijumlahkan dengan 80 kemudian diubah kembali menjadi karakter\n",
    "    2. Value kedua dihitung sisa bagi dengan 26 kemudian dijumlahkan dengan 80 kemudian diubah kembali menjadi karakter\n",
    "    3. Value ketiga adalah karakter '+' jika value pertama lebih besar dari value kedua, atau value ketiga adalah karakter '-' jika value pertama tidak lebih besar dari value kedua\n",
    "    4. Deretkan value pertama, kedua dan ketiga untuk setiap karakter dalam password tersebut sehingga didapatkan password dalam bentuk baru\n",
    "\n",
    "1. Bantulah user tersebut dengan membuatkan sebuah program yang secara otomatis mengubah password yang di input menjadi terenkripsi sesuai aturan tersebut!"
   ]
  },
  {
   "cell_type": "code",
   "execution_count": 18,
   "id": "ff08364c",
   "metadata": {},
   "outputs": [],
   "source": [
    "def enkripsi(pw):\n",
    "    #jika panjang password lebih dari 100 karakter\n",
    "    if len(pw) > 100 or len(pw) == 0:\n",
    "        print(\"Masukkan 1 - 100 karakter\")\n",
    "    else:\n",
    "        #setiap karakter diubah menjadi ascii dan akan disimpan didalam list\n",
    "        ascii = [str(ord(i)) for i in pw]\n",
    "        #setiap kode ascii dibuat menjadi 3 value\n",
    "        endkrip = ''.join(chr((int(j)//26)+80) + chr((int(j)%26)+80) + ('+' if (int(j)//26+80) > (int(j)%26)+80 else '-') for j in ascii)\n",
    "        #tampilkan hasil dari enkripsi\n",
    "        print(\"Ekripsi dari password adalah : \", endkrip)\n",
    "        \n",
    "#fungsi deskripsi\n",
    "def deskripsi(pw):\n",
    "    #membagi 3 value\n",
    "    bagi_pw = [(pw[a:a+3]) for a in range(0, len(pw), 3)]\n",
    "    #membuat 3 value menjadi kode ascii lalu kekarakter asli\n",
    "    desk = ''.join(chr(((ord(list(z)[0])-80)*26)+(ord(list(z)[1])-80)) for z in bagi_pw)\n",
    "    #hasil deskripsi\n",
    "    print(\"Password adalah :\", desk)"
   ]
  },
  {
   "cell_type": "markdown",
   "id": "63c6b769",
   "metadata": {},
   "source": [
    "2. Apa output yang dihasilkan dari program tersebut jika input password adalah 'anakanakcerdas2020' ?"
   ]
  },
  {
   "cell_type": "code",
   "execution_count": 11,
   "id": "a6bdd8ca",
   "metadata": {},
   "outputs": [
    {
     "name": "stdout",
     "output_type": "stream",
     "text": [
      "Enter Password: anakanakcerdas2020\n",
      "Ekripsi dari password adalah :  Sc-TV-Sc-TS+Sc-TV-Sc-TS+Se-Sg-TZ-Sf-Sc-T[-Qh-Qf-Qh-Qf-\n"
     ]
    }
   ],
   "source": [
    "#enkripsi\n",
    "pw = input(\"Enter Password: \")\n",
    "enkripsi(pw)"
   ]
  },
  {
   "cell_type": "markdown",
   "id": "e4abcb4d",
   "metadata": {},
   "source": [
    "3. (Bonus) User tersebut lupa password asli yang dia inputkan ke dalam program tersebut, password setelah dienkripsi adalah 'Sc-TV-Sc-TS+T[-Sc-TQ+TV-T[-Sf-Sc-T-Sc-Qh-Qf-Qh-Qf-TS+Sg-Se-Sg-'. Bantulah user tersebut mendapatkan password asli nya!"
   ]
  },
  {
   "cell_type": "code",
   "execution_count": 19,
   "id": "448f4362",
   "metadata": {},
   "outputs": [
    {
     "name": "stdout",
     "output_type": "stream",
     "text": [
      "Masukkan Kata Enkripsi : Sc-TV-Sc-TS+T[-Sc-TQ+TV-T[-Sf-Sc-T\\-Sc-Qh-Qf-Qh-Qf-TS+Sg-Se-Sg-\n",
      "Password adalah : anaksainsdata2020kece\n"
     ]
    }
   ],
   "source": [
    "#merubah ke deskripsi\n",
    "enkripsi_kata = input(\"Masukkan Kata Enkripsi : \")\n",
    "deskripsi(enkripsi_kata)"
   ]
  },
  {
   "cell_type": "code",
   "execution_count": null,
   "id": "bfddb0a4",
   "metadata": {},
   "outputs": [],
   "source": []
  }
 ],
 "metadata": {
  "kernelspec": {
   "display_name": "Python 3 (ipykernel)",
   "language": "python",
   "name": "python3"
  },
  "language_info": {
   "codemirror_mode": {
    "name": "ipython",
    "version": 3
   },
   "file_extension": ".py",
   "mimetype": "text/x-python",
   "name": "python",
   "nbconvert_exporter": "python",
   "pygments_lexer": "ipython3",
   "version": "3.10.8"
  }
 },
 "nbformat": 4,
 "nbformat_minor": 5
}
